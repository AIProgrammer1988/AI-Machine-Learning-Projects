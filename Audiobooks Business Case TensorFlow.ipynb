{
 "cells": [
  {
   "cell_type": "markdown",
   "metadata": {},
   "source": [
    "# Audiobooks Business Case TensorFlow"
   ]
  },
  {
   "cell_type": "markdown",
   "metadata": {},
   "source": [
    "### Problem\n",
    "\n",
    "You are given data from an Audiobook App. Logically, it relates to the audio versions of books ONLY. Each customer in the database has made a purchase at least once, that's why he/she is in the database. We want to create a machine learning algorithm based on our available data that can predict if a customer will buy again from the Audiobook company.\n",
    "\n",
    "The main idea is that if a customer has a low probability of coming back, there is no reason to spend any money on advertising to him/her. If we can focus our efforts SOLELY on customers that are likely to convert again, we can make great savings. Moreover, this model can identify the most important metrics for a customer to come back again. Identifying new customers creates value and growth opportunities.\n",
    "\n",
    "You have a .csv summarizing the data. There are several variables: Customer ID, ), Book length overall (sum of the minute length of all purchases), Book length avg (average length in minutes of all purchases), Price paid_overall (sum of all purchases) ,Price Paid avg (average of all purchases), Review (a Boolean variable whether the customer left a review), Review out of 10 (if the customer left a review, his/her review out of 10, Total minutes listened, Completion (from 0 to 1), Support requests (number of support requests; everything from forgotten password to assistance for using the App), and Last visited minus purchase date (in days).\n",
    "\n",
    "These are the inputs (excluding customer ID, as it is completely arbitrary. It's more like a name, than a number).\n",
    "\n",
    "The targets are a Boolean variable (0 or 1). We are taking a period of 2 years in our inputs, and the next 6 months as targets. So, in fact, we are predicting if: based on the last 2 years of activity and engagement, a customer will convert in the next 6 months. 6 months sounds like a reasonable time. If they don't convert after 6 months, chances are they've gone to a competitor or didn't like the Audiobook way of digesting information. \n",
    "\n",
    "The task is simple: create a machine learning algorithm, which is able to predict if a customer will buy again. \n",
    "\n",
    "This is a classification problem with two classes: won't buy and will buy, represented by 0s and 1s. "
   ]
  },
  {
   "cell_type": "markdown",
   "metadata": {},
   "source": [
    "## Preprocess the data. Balance the dataset. Create 3 datasets: training, validation, and test. Save the newly created sets in a tensor friendly format (e.g. *.npz)\n",
    "\n",
    "Since we are dealing with real life data, we will need to preprocess it a bit. This is the relevant code, which is not that hard, but is crucial to creating a good model.\n",
    "\n",
    "If you want to know how to do that, go through the code with comments. In any case, this should do the trick for most datasets organized in this way: many inputs, and then 1 cell containing the targets (supersized learning datasets). Keep in mind that a specific problem may require additional preprocessing.\n",
    "\n",
    "Note that we have removed the header row, which contains the names of the categories. We simply want the data."
   ]
  },
  {
   "cell_type": "markdown",
   "metadata": {},
   "source": [
    "### Extract the data from the csv"
   ]
  },
  {
   "cell_type": "code",
   "execution_count": 1,
   "metadata": {},
   "outputs": [],
   "source": [
    "import numpy as np\n",
    "from sklearn import preprocessing\n",
    "# Use the SKLEARN capabilities for standardizing the inputs, 10% gain for this problem\n",
    "raw_csv_data = np.loadtxt('Audiobooks_data.csv', delimiter = ',')\n",
    "# First column is arbitrary customer id - leave out\n",
    "# Last column is the targets\n",
    "unscaled_inputs_all = raw_csv_data[:,1:-1]\n",
    "targets_all = raw_csv_data[:,-1]"
   ]
  },
  {
   "cell_type": "markdown",
   "metadata": {},
   "source": [
    "### Balance the Dataset"
   ]
  },
  {
   "cell_type": "code",
   "execution_count": 2,
   "metadata": {},
   "outputs": [],
   "source": [
    "# Count the number of targets that are 1\n",
    "# We will keep the same number of 0's as 1's, delete the rest\n",
    "# If we sum all the targets we will get the number of targets that are ones\n",
    "num_one_targets = int(np.sum(targets_all))\n",
    "zero_targets_counter = 0\n",
    "indices_to_remove = []\n",
    "\n",
    "for i in range(targets_all.shape[0]):\n",
    "    # The shape of targets_all on axis = 0; the length of the vector\n",
    "    if targets_all[i] == 0:\n",
    "        zero_targets_counter += 1\n",
    "        if zero_targets_counter > num_one_targets:\n",
    "            # if the target at position i is 0, and the number of zeros is greater than the number of 1's\n",
    "            # take note of that in the index\n",
    "            indices_to_remove.append(i)\n",
    "            # if the target position of i is 0, and the number of zeros is greater than the number of 1's, \n",
    "            # the datapoints will be removed.\n",
    "unscaled_inputs_equal_priors = np.delete(unscaled_inputs_all, indices_to_remove, axis = 0)\n",
    "# np.delete(array, object to delete, axis) is a method that deletes an object along the axis\n",
    "targets_equal_priors = np.delete(targets_all, indices_to_remove, axis = 0 )"
   ]
  },
  {
   "cell_type": "markdown",
   "metadata": {},
   "source": [
    "### Standardize the Inputs"
   ]
  },
  {
   "cell_type": "code",
   "execution_count": 3,
   "metadata": {},
   "outputs": [],
   "source": [
    "scaled_inputs = preprocessing.scale(unscaled_inputs_equal_priors)\n",
    "# preprocessing.scale(x) is a method that standardizes an array along an axis"
   ]
  },
  {
   "cell_type": "markdown",
   "metadata": {},
   "source": [
    "### Shuffle the Data"
   ]
  },
  {
   "cell_type": "code",
   "execution_count": 4,
   "metadata": {},
   "outputs": [],
   "source": [
    "# Since we will be batching, we must actually shuffle the data\n",
    "# When the data was collected it was actually arranged by date\n",
    "# Shuffle the indices of the data, so the data is not arranged in any way when we feed it.\n",
    "# Since we will be batching, we want the data to be as randomly spread out as possible\n",
    "shuffled_indices = np.arange(scaled_inputs.shape[0])\n",
    "# np.arange([start], stop) is a method that returns an evenly spaced values within a given interval\n",
    "np.random.shuffle(shuffled_indices)\n",
    "# np.random.shuffle(x) is a method that shuffles the numbers in a given sequence\n",
    "\n",
    "shuffled_inputs = scaled_inputs[shuffled_indices]\n",
    "shuffled_targets = targets_equal_priors[shuffled_indices]"
   ]
  },
  {
   "cell_type": "markdown",
   "metadata": {},
   "source": [
    "### Split that dataset into Training, Validation, and Testing"
   ]
  },
  {
   "cell_type": "code",
   "execution_count": 5,
   "metadata": {},
   "outputs": [
    {
     "name": "stdout",
     "output_type": "stream",
     "text": [
      "(1788.0, 3579, 0.49958088851634536)\n",
      "(217.0, 447, 0.4854586129753915)\n",
      "(232.0, 448, 0.5178571428571429)\n"
     ]
    }
   ],
   "source": [
    "samples_count = shuffled_inputs.shape[0] # 0 axis, (x axis)\n",
    "\n",
    "# We use the 80-10-10 split for train, validation, and test\n",
    "# Count the samples in each subset, assuming we want 80-10-10 distribution of training, validation, and test.\n",
    "# Naturally, the numbers are integers.\n",
    "train_samples_count = int(0.8*samples_count)\n",
    "validation_samples_count = int(0.1*samples_count)\n",
    "\n",
    "# The 'test' dataset contains all remaining data.\n",
    "test_samples_count = samples_count - train_samples_count - validation_samples_count\n",
    "\n",
    "# Create variables that record the inputs and targets for training\n",
    "# In our shuffled dataset, they are the first \"train_samples_count\" observations\n",
    "train_inputs = shuffled_inputs[:train_samples_count]\n",
    "train_targets = shuffled_targets[:train_samples_count]\n",
    "\n",
    "# Create variables that record the inputs and targets for validation.\n",
    "# They are the next \"validation_samples_count\" observations, folllowing the \"train_samples_count\" we already assigned\n",
    "validation_inputs = shuffled_inputs[train_samples_count:train_samples_count+validation_samples_count]\n",
    "validation_targets = shuffled_targets[train_samples_count:train_samples_count+validation_samples_count]\n",
    "\n",
    "# Create variables that record the inputs and targets for test.\n",
    "# They are everything that is remaining.\n",
    "\n",
    "test_inputs = shuffled_inputs[train_samples_count+validation_samples_count:]\n",
    "test_targets = shuffled_targets[train_samples_count+validation_samples_count:]\n",
    "\n",
    "# We balanced our dataset to be 50-50 (for targets 0 and 1), but the training, validation, and test were \n",
    "# taken from a shuffled dataset. Check if they are balanced, too. Note that each time you rerun this code, \n",
    "# you will get different values, as each time they are shuffled randomly.\n",
    "# Normally you preprocess ONCE, so you need not rerun this code once it is done.\n",
    "# If you rerun this whole sheet, the npzs will be overwritten with your newly preprocessed data.\n",
    "\n",
    "# Print the number of targets that are 1s, the total number of samples, and the proportion for training, validation, and test.\n",
    "print(np.sum(train_targets), train_samples_count, np.sum(train_targets) / train_samples_count)\n",
    "print(np.sum(validation_targets), validation_samples_count, np.sum(validation_targets) / validation_samples_count)\n",
    "print(np.sum(test_targets), test_samples_count, np.sum(test_targets) / test_samples_count)\n",
    "\n"
   ]
  },
  {
   "cell_type": "markdown",
   "metadata": {},
   "source": [
    "### Save the three datasets via *.npz"
   ]
  },
  {
   "cell_type": "code",
   "execution_count": 6,
   "metadata": {},
   "outputs": [],
   "source": [
    "# Save the three datasets in *.npz.\n",
    "# In the next lesson, you will see that it is extremely valuable to name them in such a coherent way!\n",
    "\n",
    "np.savez('Audiobooks_data_train', inputs=train_inputs, targets=train_targets)\n",
    "np.savez('Audiobooks_data_validation', inputs=validation_inputs, targets=validation_targets)\n",
    "np.savez('Audiobooks_data_test', inputs=test_inputs, targets=test_targets)"
   ]
  },
  {
   "cell_type": "markdown",
   "metadata": {},
   "source": [
    "### Create Methods that will batch the data"
   ]
  },
  {
   "cell_type": "code",
   "execution_count": 7,
   "metadata": {},
   "outputs": [],
   "source": [
    "import numpy as np\n",
    "\n",
    "# Create a class that will do the batching for the algorithm\n",
    "# This code is extremely reusable. You should just change Audiobooks_data everywhere in the code\n",
    "class Audiobooks_Data_Reader():\n",
    "    # Dataset is a mandatory arugment, while the batch_size is optional\n",
    "    # If you don't input batch_size, it will automatically take the value: None\n",
    "    def __init__(self, dataset, batch_size = None):\n",
    "    \n",
    "        # The dataset that loads is one of \"train\", \"validation\", \"test\".\n",
    "        # e.g. if I call this class with x('train',5), it will load 'Audiobooks_data_train.npz' with a batch size of 5.\n",
    "        npz = np.load('Audiobooks_data_{0}.npz'.format(dataset))\n",
    "        \n",
    "        # Two variables that take the values of the inputs and the targets. Inputs are floats, targets are integers\n",
    "        self.inputs, self.targets = npz['inputs'].astype(np.float), npz['targets'].astype(np.int)\n",
    "        \n",
    "        # Counts the batch number, given the size you feed it later\n",
    "        # If the batch size is None, we are either validating or testing, so we want to take the data in a single batch\n",
    "        if batch_size is None:\n",
    "            self.batch_size = self.inputs.shape[0]\n",
    "        else:\n",
    "            self.batch_size = batch_size\n",
    "        self.curr_batch = 0\n",
    "        self.batch_count = self.inputs.shape[0] // self.batch_size\n",
    "    \n",
    "    # A method which loads the next batch\n",
    "    def next(self):\n",
    "        if self.curr_batch >= self.batch_count:\n",
    "            self.curr_batch = 0\n",
    "            raise StopIteration()\n",
    "            \n",
    "        # You slice the dataset in batches and then the \"next\" function loads them one after the other\n",
    "        batch_slice = slice(self.curr_batch * self.batch_size, (self.curr_batch + 1) * self.batch_size)\n",
    "        inputs_batch = self.inputs[batch_slice]\n",
    "        targets_batch = self.targets[batch_slice]\n",
    "        self.curr_batch += 1\n",
    "        \n",
    "        # One-hot encode the targets. In this example it's a bit superfluous since we have a 0/1 column \n",
    "        # as a target already but we're giving you the code regardless, as it will be useful for any \n",
    "        # classification task with more than one target column\n",
    "        classes_num = 2\n",
    "        targets_one_hot = np.zeros((targets_batch.shape[0], classes_num))\n",
    "        targets_one_hot[range(targets_batch.shape[0]), targets_batch] = 1\n",
    "        \n",
    "        # The function will return the inputs batch and the one-hot encoded targets\n",
    "        return inputs_batch, targets_one_hot\n",
    "    \n",
    "        \n",
    "    # A method needed for iterating over the batches, as we will put them in a loop\n",
    "    # This tells Python that the class we're defining is iterable, i.e. that we can use it like:\n",
    "    # for input, output in data: \n",
    "        # do things\n",
    "    # An iterator in Python is a class with a method __next__ that defines exactly how to iterate through its objects\n",
    "    def __iter__(self):\n",
    "        return self"
   ]
  },
  {
   "cell_type": "markdown",
   "metadata": {},
   "source": [
    "### Machine Learning (Business Case)"
   ]
  },
  {
   "cell_type": "code",
   "execution_count": 8,
   "metadata": {},
   "outputs": [
    {
     "name": "stdout",
     "output_type": "stream",
     "text": [
      "Epoch 1. Training loss: 0.710. Validation loss: 0.689. Validation accuracy: 55.03%\n",
      "Epoch 2. Training loss: 0.682. Validation loss: 0.670. Validation accuracy: 57.49%\n",
      "Epoch 3. Training loss: 0.664. Validation loss: 0.657. Validation accuracy: 62.42%\n",
      "Epoch 4. Training loss: 0.650. Validation loss: 0.645. Validation accuracy: 64.88%\n",
      "Epoch 5. Training loss: 0.637. Validation loss: 0.635. Validation accuracy: 64.88%\n",
      "Epoch 6. Training loss: 0.626. Validation loss: 0.625. Validation accuracy: 66.22%\n",
      "Epoch 7. Training loss: 0.614. Validation loss: 0.615. Validation accuracy: 68.90%\n",
      "Epoch 8. Training loss: 0.603. Validation loss: 0.605. Validation accuracy: 71.59%\n",
      "Epoch 9. Training loss: 0.593. Validation loss: 0.595. Validation accuracy: 73.15%\n",
      "Epoch 10. Training loss: 0.582. Validation loss: 0.585. Validation accuracy: 76.06%\n",
      "Epoch 11. Training loss: 0.572. Validation loss: 0.576. Validation accuracy: 76.96%\n",
      "Epoch 12. Training loss: 0.562. Validation loss: 0.566. Validation accuracy: 76.73%\n",
      "Epoch 13. Training loss: 0.552. Validation loss: 0.557. Validation accuracy: 77.40%\n",
      "Epoch 14. Training loss: 0.543. Validation loss: 0.549. Validation accuracy: 77.40%\n",
      "Epoch 15. Training loss: 0.533. Validation loss: 0.540. Validation accuracy: 77.40%\n",
      "Epoch 16. Training loss: 0.525. Validation loss: 0.532. Validation accuracy: 76.73%\n",
      "Epoch 17. Training loss: 0.516. Validation loss: 0.524. Validation accuracy: 77.18%\n",
      "Epoch 18. Training loss: 0.508. Validation loss: 0.517. Validation accuracy: 77.18%\n",
      "Epoch 19. Training loss: 0.501. Validation loss: 0.510. Validation accuracy: 76.51%\n",
      "Epoch 20. Training loss: 0.493. Validation loss: 0.503. Validation accuracy: 76.51%\n",
      "Epoch 21. Training loss: 0.487. Validation loss: 0.497. Validation accuracy: 76.73%\n",
      "Epoch 22. Training loss: 0.480. Validation loss: 0.491. Validation accuracy: 76.51%\n",
      "Epoch 23. Training loss: 0.474. Validation loss: 0.485. Validation accuracy: 76.51%\n",
      "Epoch 24. Training loss: 0.468. Validation loss: 0.480. Validation accuracy: 76.29%\n",
      "Epoch 25. Training loss: 0.463. Validation loss: 0.475. Validation accuracy: 76.29%\n",
      "Epoch 26. Training loss: 0.458. Validation loss: 0.470. Validation accuracy: 76.29%\n",
      "Epoch 27. Training loss: 0.453. Validation loss: 0.466. Validation accuracy: 76.29%\n",
      "Epoch 28. Training loss: 0.448. Validation loss: 0.462. Validation accuracy: 76.06%\n",
      "Epoch 29. Training loss: 0.444. Validation loss: 0.458. Validation accuracy: 76.06%\n",
      "Epoch 30. Training loss: 0.440. Validation loss: 0.454. Validation accuracy: 76.06%\n",
      "Epoch 31. Training loss: 0.436. Validation loss: 0.451. Validation accuracy: 74.94%\n",
      "Epoch 32. Training loss: 0.432. Validation loss: 0.447. Validation accuracy: 75.17%\n",
      "Epoch 33. Training loss: 0.429. Validation loss: 0.444. Validation accuracy: 75.17%\n",
      "Epoch 34. Training loss: 0.425. Validation loss: 0.441. Validation accuracy: 74.94%\n",
      "Epoch 35. Training loss: 0.422. Validation loss: 0.438. Validation accuracy: 75.17%\n",
      "Epoch 36. Training loss: 0.419. Validation loss: 0.435. Validation accuracy: 75.17%\n",
      "Epoch 37. Training loss: 0.416. Validation loss: 0.433. Validation accuracy: 75.39%\n",
      "Epoch 38. Training loss: 0.414. Validation loss: 0.430. Validation accuracy: 75.84%\n",
      "Epoch 39. Training loss: 0.411. Validation loss: 0.428. Validation accuracy: 75.84%\n",
      "Epoch 40. Training loss: 0.409. Validation loss: 0.426. Validation accuracy: 75.84%\n",
      "Epoch 41. Training loss: 0.406. Validation loss: 0.424. Validation accuracy: 75.84%\n",
      "Epoch 42. Training loss: 0.404. Validation loss: 0.421. Validation accuracy: 76.06%\n",
      "Epoch 43. Training loss: 0.402. Validation loss: 0.419. Validation accuracy: 76.29%\n",
      "Epoch 44. Training loss: 0.400. Validation loss: 0.417. Validation accuracy: 76.06%\n",
      "Epoch 45. Training loss: 0.398. Validation loss: 0.416. Validation accuracy: 76.06%\n",
      "Epoch 46. Training loss: 0.396. Validation loss: 0.414. Validation accuracy: 76.06%\n",
      "Epoch 47. Training loss: 0.394. Validation loss: 0.412. Validation accuracy: 76.29%\n",
      "Epoch 48. Training loss: 0.392. Validation loss: 0.410. Validation accuracy: 76.51%\n",
      "Epoch 49. Training loss: 0.391. Validation loss: 0.409. Validation accuracy: 76.51%\n",
      "Epoch 50. Training loss: 0.389. Validation loss: 0.407. Validation accuracy: 76.73%\n",
      "Epoch 51. Training loss: 0.388. Validation loss: 0.406. Validation accuracy: 76.96%\n",
      "Epoch 52. Training loss: 0.386. Validation loss: 0.404. Validation accuracy: 77.18%\n",
      "Epoch 53. Training loss: 0.385. Validation loss: 0.403. Validation accuracy: 77.40%\n",
      "Epoch 54. Training loss: 0.383. Validation loss: 0.401. Validation accuracy: 77.40%\n",
      "Epoch 55. Training loss: 0.382. Validation loss: 0.400. Validation accuracy: 77.40%\n",
      "Epoch 56. Training loss: 0.381. Validation loss: 0.399. Validation accuracy: 77.63%\n",
      "Epoch 57. Training loss: 0.379. Validation loss: 0.398. Validation accuracy: 77.63%\n",
      "Epoch 58. Training loss: 0.378. Validation loss: 0.397. Validation accuracy: 77.63%\n",
      "Epoch 59. Training loss: 0.377. Validation loss: 0.395. Validation accuracy: 77.63%\n",
      "Epoch 60. Training loss: 0.376. Validation loss: 0.394. Validation accuracy: 77.63%\n",
      "Epoch 61. Training loss: 0.375. Validation loss: 0.393. Validation accuracy: 77.85%\n",
      "Epoch 62. Training loss: 0.374. Validation loss: 0.392. Validation accuracy: 77.85%\n",
      "Epoch 63. Training loss: 0.373. Validation loss: 0.391. Validation accuracy: 78.08%\n",
      "Epoch 64. Training loss: 0.372. Validation loss: 0.390. Validation accuracy: 78.08%\n",
      "Epoch 65. Training loss: 0.371. Validation loss: 0.389. Validation accuracy: 78.30%\n",
      "Epoch 66. Training loss: 0.370. Validation loss: 0.388. Validation accuracy: 78.30%\n",
      "Epoch 67. Training loss: 0.369. Validation loss: 0.388. Validation accuracy: 78.30%\n",
      "Epoch 68. Training loss: 0.368. Validation loss: 0.387. Validation accuracy: 78.97%\n",
      "Epoch 69. Training loss: 0.367. Validation loss: 0.386. Validation accuracy: 78.97%\n",
      "Epoch 70. Training loss: 0.366. Validation loss: 0.385. Validation accuracy: 78.97%\n",
      "Epoch 71. Training loss: 0.365. Validation loss: 0.384. Validation accuracy: 78.97%\n",
      "Epoch 72. Training loss: 0.365. Validation loss: 0.384. Validation accuracy: 78.97%\n",
      "Epoch 73. Training loss: 0.364. Validation loss: 0.383. Validation accuracy: 78.97%\n",
      "Epoch 74. Training loss: 0.363. Validation loss: 0.382. Validation accuracy: 78.97%\n",
      "Epoch 75. Training loss: 0.362. Validation loss: 0.381. Validation accuracy: 78.97%\n",
      "Epoch 76. Training loss: 0.362. Validation loss: 0.381. Validation accuracy: 78.97%\n",
      "Epoch 77. Training loss: 0.361. Validation loss: 0.380. Validation accuracy: 78.97%\n",
      "Epoch 78. Training loss: 0.360. Validation loss: 0.379. Validation accuracy: 78.97%\n",
      "Epoch 79. Training loss: 0.360. Validation loss: 0.379. Validation accuracy: 78.97%\n",
      "Epoch 80. Training loss: 0.359. Validation loss: 0.378. Validation accuracy: 78.97%\n",
      "Epoch 81. Training loss: 0.358. Validation loss: 0.377. Validation accuracy: 78.97%\n",
      "Epoch 82. Training loss: 0.358. Validation loss: 0.377. Validation accuracy: 78.97%\n",
      "Epoch 83. Training loss: 0.357. Validation loss: 0.376. Validation accuracy: 78.97%\n",
      "Epoch 84. Training loss: 0.357. Validation loss: 0.376. Validation accuracy: 78.97%\n",
      "Epoch 85. Training loss: 0.356. Validation loss: 0.375. Validation accuracy: 78.97%\n",
      "Epoch 86. Training loss: 0.355. Validation loss: 0.375. Validation accuracy: 79.19%\n",
      "Epoch 87. Training loss: 0.355. Validation loss: 0.374. Validation accuracy: 79.19%\n",
      "Epoch 88. Training loss: 0.354. Validation loss: 0.374. Validation accuracy: 79.19%\n",
      "Epoch 89. Training loss: 0.354. Validation loss: 0.373. Validation accuracy: 79.19%\n",
      "Epoch 90. Training loss: 0.353. Validation loss: 0.373. Validation accuracy: 79.19%\n",
      "Epoch 91. Training loss: 0.353. Validation loss: 0.372. Validation accuracy: 79.19%\n",
      "Epoch 92. Training loss: 0.352. Validation loss: 0.372. Validation accuracy: 79.19%\n",
      "Epoch 93. Training loss: 0.352. Validation loss: 0.371. Validation accuracy: 79.19%\n",
      "Epoch 94. Training loss: 0.351. Validation loss: 0.371. Validation accuracy: 79.19%\n",
      "Epoch 95. Training loss: 0.351. Validation loss: 0.370. Validation accuracy: 79.19%\n",
      "Epoch 96. Training loss: 0.351. Validation loss: 0.370. Validation accuracy: 79.19%\n",
      "Epoch 97. Training loss: 0.350. Validation loss: 0.370. Validation accuracy: 79.19%\n",
      "Epoch 98. Training loss: 0.350. Validation loss: 0.369. Validation accuracy: 79.19%\n",
      "Epoch 99. Training loss: 0.349. Validation loss: 0.369. Validation accuracy: 79.19%\n",
      "Epoch 100. Training loss: 0.349. Validation loss: 0.368. Validation accuracy: 79.19%\n",
      "End of training.\n"
     ]
    }
   ],
   "source": [
    "# We need to import TF (we didn't need it so far)\n",
    "import tensorflow as tf\n",
    "\n",
    "# Input size depends on the number of input variables. We have 10 of them\n",
    "input_size = 10\n",
    "# Output size is 2, as we one-hot encoded the targets.\n",
    "output_size = 2\n",
    "# Choose a hidden_layer_size\n",
    "hidden_layer_size = 50\n",
    "\n",
    "# Reset the default graph, so you can fiddle with the hyperparameters and then rerun the code.\n",
    "tf.reset_default_graph()\n",
    "\n",
    "# Create the placeholders\n",
    "inputs = tf.placeholder(tf.float32, [None, input_size])\n",
    "targets = tf.placeholder(tf.int32, [None, output_size])\n",
    "\n",
    "# Outline the model. We will create a net with 2 hidden layers\n",
    "weights_1 = tf.get_variable(\"weights_1\", [input_size, hidden_layer_size])\n",
    "biases_1 = tf.get_variable(\"biases_1\", [hidden_layer_size])\n",
    "outputs_1 = tf.nn.relu(tf.matmul(inputs, weights_1) + biases_1)\n",
    "\n",
    "weights_2 = tf.get_variable(\"weights_2\", [hidden_layer_size, hidden_layer_size])\n",
    "biases_2 = tf.get_variable(\"biases_2\", [hidden_layer_size])\n",
    "outputs_2 = tf.nn.sigmoid(tf.matmul(outputs_1, weights_2) + biases_2)\n",
    "\n",
    "weights_3 = tf.get_variable(\"weights_3\", [hidden_layer_size, output_size])\n",
    "biases_3 = tf.get_variable(\"biases_3\", [output_size])\n",
    "# We will incorporate the softmax activation into the loss, as in the previous example\n",
    "outputs = tf.matmul(outputs_2, weights_3) + biases_3\n",
    "\n",
    "# Use the softmax cross entropy loss with logits\n",
    "loss = tf.nn.softmax_cross_entropy_with_logits_v2(logits=outputs, labels=targets)\n",
    "mean_loss = tf.reduce_mean(loss)\n",
    "\n",
    "# Get a 0 or 1 for every input indicating whether it output the correct answer\n",
    "out_equals_target = tf.equal(tf.argmax(outputs, 1), tf.argmax(targets, 1))\n",
    "accuracy = tf.reduce_mean(tf.cast(out_equals_target, tf.float32))\n",
    "\n",
    "# Optimize with Adam\n",
    "optimize = tf.train.AdamOptimizer(learning_rate=0.0001).minimize(mean_loss)\n",
    "\n",
    "# Create a session\n",
    "sess = tf.InteractiveSession()\n",
    "\n",
    "# Initialize the variables\n",
    "initializer = tf.global_variables_initializer()\n",
    "sess.run(initializer)\n",
    "\n",
    "# Choose the batch size\n",
    "batch_size = 100\n",
    "\n",
    "# Set early stopping mechanisms\n",
    "max_epochs = 100\n",
    "prev_validation_loss = 9999999.\n",
    "\n",
    "# Load the first batch of training and validation, using the class we created. \n",
    "# Arguments are ending of 'Audiobooks_Data_<...>', where for <...> we input 'train', 'validation', or 'test'\n",
    "# depending on what we want to load\n",
    "train_data = Audiobooks_Data_Reader('train', batch_size)\n",
    "validation_data = Audiobooks_Data_Reader('validation')\n",
    "\n",
    "# Create the loop for epochs \n",
    "for epoch_counter in range(max_epochs):\n",
    "    \n",
    "    # Set the epoch loss to 0, and make it a float\n",
    "    curr_epoch_loss = 0.\n",
    "    \n",
    "    # Iterate over the training data \n",
    "    # Since train_data is an instance of the Audiobooks_Data_Reader class,\n",
    "    # we can iterate through it by implicitly using the __next__ method we defined above.\n",
    "    # As a reminder, it batches samples together, one-hot encodes the targets, and returns\n",
    "    # inputs and targets batch by batch\n",
    "    for input_batch, target_batch in train_data:\n",
    "        _, batch_loss = sess.run([optimize, mean_loss], \n",
    "            feed_dict={inputs: input_batch, targets: target_batch})\n",
    "        \n",
    "        #Record the batch loss into the current epoch loss\n",
    "        curr_epoch_loss += batch_loss\n",
    "    \n",
    "    # Find the mean curr_epoch_loss\n",
    "    # batch_count is a variable, defined in the Audiobooks_Data_Reader class\n",
    "    curr_epoch_loss /= train_data.batch_count\n",
    "    \n",
    "    # Set validation loss and accuracy for the epoch to zero\n",
    "    validation_loss = 0.\n",
    "    validation_accuracy = 0.\n",
    "    \n",
    "    # Use the same logic of the code to forward propagate the validation set\n",
    "    # There will be a single batch, as the class was created in this way\n",
    "    for input_batch, target_batch in validation_data:\n",
    "        validation_loss, validation_accuracy = sess.run([mean_loss, accuracy],\n",
    "            feed_dict={inputs: input_batch, targets: target_batch})\n",
    "    \n",
    "    # Print statistics for the current epoch\n",
    "    print('Epoch '+str(epoch_counter+1)+\n",
    "          '. Training loss: '+'{0:.3f}'.format(curr_epoch_loss)+\n",
    "          '. Validation loss: '+'{0:.3f}'.format(validation_loss)+\n",
    "          '. Validation accuracy: '+'{0:.2f}'.format(validation_accuracy * 100.)+'%')\n",
    "    \n",
    "    # Trigger early stopping if validation loss begins increasing.\n",
    "    if validation_loss > prev_validation_loss:\n",
    "        break\n",
    "        \n",
    "    # Store this epoch's validation loss to be used as previous in the next iteration.\n",
    "    prev_validation_loss = validation_loss\n",
    "    \n",
    "print('End of training.')"
   ]
  },
  {
   "cell_type": "markdown",
   "metadata": {},
   "source": [
    "### Test the Model"
   ]
  },
  {
   "cell_type": "code",
   "execution_count": 9,
   "metadata": {},
   "outputs": [
    {
     "name": "stdout",
     "output_type": "stream",
     "text": [
      "Test Accuracy: 79.69%\n"
     ]
    }
   ],
   "source": [
    "test_data = Audiobooks_Data_Reader('test')\n",
    "# We need to forward propagate the test data through the net\n",
    "\n",
    "for input_batch, target_batch in test_data:\n",
    "    test_accuracy = sess.run([accuracy],\n",
    "                             feed_dict={inputs: input_batch, targets: target_batch})\n",
    "    # When we run a single output with sess.run, the result is a LIST\n",
    "test_accuracy_percent = test_accuracy[0] * 100.\n",
    "\n",
    "print('Test Accuracy: '+'{0:.2f}'.format(test_accuracy_percent) + '%')"
   ]
  },
  {
   "cell_type": "code",
   "execution_count": null,
   "metadata": {},
   "outputs": [],
   "source": [
    "# Improving the accuracy will depend mainly on the hyperparameters width and depth\n",
    "# A relu activation of the first hidden layer will cause many hidden units to be zeroed\n",
    "# A batch size of 1 equals the stochastic gradient descent, learn quickly but not accurately\n",
    "# ADAM adapts learning rate dynamically\n",
    "# Check out tf.contrib\n",
    "# www.kaggle.com/datasets to get own datasets"
   ]
  }
 ],
 "metadata": {
  "kernelspec": {
   "display_name": "Python 2",
   "language": "python",
   "name": "python2"
  },
  "language_info": {
   "codemirror_mode": {
    "name": "ipython",
    "version": 2
   },
   "file_extension": ".py",
   "mimetype": "text/x-python",
   "name": "python",
   "nbconvert_exporter": "python",
   "pygments_lexer": "ipython2",
   "version": "2.7.15"
  }
 },
 "nbformat": 4,
 "nbformat_minor": 2
}
