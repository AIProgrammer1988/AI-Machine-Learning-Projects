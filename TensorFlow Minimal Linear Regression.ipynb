{
 "cells": [
  {
   "cell_type": "code",
   "execution_count": 1,
   "metadata": {},
   "outputs": [],
   "source": [
    "import numpy as np\n",
    "import matplotlib.pyplot as plt\n",
    "import tensorflow as tf"
   ]
  },
  {
   "cell_type": "code",
   "execution_count": 2,
   "metadata": {},
   "outputs": [],
   "source": [
    "observations = 1000\n",
    "\n",
    "xs = np.random.uniform(low=-10, high=10, size=(observations,1))\n",
    "zs = np.random.uniform(-10, 10, (observations,1))\n",
    "\n",
    "generated_inputs = np.column_stack((xs,zs))\n",
    "\n",
    "noise = np.random.uniform(-1, 1, (observations,1))\n",
    "generated_targets = 2*xs - 3*zs + 5 + noise\n",
    "\n",
    "np.savez('TF_Intro', inputs = generated_inputs, targets = generated_targets) # Tensor friendly file, saving n-dimenisonal\n",
    "#arrays in .npz format\n",
    "#np.savez(filename, arrays - objects to save in the file)"
   ]
  },
  {
   "cell_type": "code",
   "execution_count": 3,
   "metadata": {},
   "outputs": [],
   "source": [
    "# Solving with TensorFlow\n",
    "# Input_size = 2\n",
    "input_size = 2 # independent variabled\n",
    "output_size = 1 # dependent variable"
   ]
  },
  {
   "cell_type": "code",
   "execution_count": 4,
   "metadata": {},
   "outputs": [],
   "source": [
    "#Tensor Flow Object -> tf.placeholder, where we feed the data\n",
    "# None - We need not specify it\n",
    "# Outputs and Targets have the same shape\n",
    "# Variables preserve their values across iterations, while placeholders do not\n",
    "inputs = tf.placeholder(tf.float32,[None,input_size])\n",
    "targets = tf.placeholder(tf.float32,[None,output_size])\n",
    "\n",
    "weights = tf.Variable(tf.random_uniform([input_size,output_size], minval=-0.1, maxval = 0.1))\n",
    "biases = tf.Variable(tf.random_uniform([output_size], minval=-0.1, maxval = 0.1))\n",
    "\n",
    "outputs = tf.matmul(inputs,weights) + biases\n",
    "#tf.matmul = np.dot (multiplying matrices)"
   ]
  },
  {
   "cell_type": "code",
   "execution_count": 5,
   "metadata": {},
   "outputs": [],
   "source": [
    "# Choosing the Objective Function and the Optimization Method through Gradient Descent\n",
    "mean_loss = tf.losses.mean_squared_error(labels = targets, predictions = outputs) / 2. # Knot (.) to obtain a float\n",
    "optimize = tf.train.GradientDescentOptimizer(learning_rate = .05).minimize(mean_loss)\n",
    "# tf.train is a module that contains most of the optimization algos\n",
    "# tf.InteractiveSession() - Tensorflow class that is used whenever we want to execute something"
   ]
  },
  {
   "cell_type": "code",
   "execution_count": 6,
   "metadata": {},
   "outputs": [],
   "source": [
    "sess = tf.InteractiveSession()\n",
    "# Training happens in the Session"
   ]
  },
  {
   "cell_type": "code",
   "execution_count": 7,
   "metadata": {},
   "outputs": [],
   "source": [
    "# Initializing the Variables\n",
    "\n",
    "initializer = tf.global_variables_initializer()\n",
    "# Is a method that initializes all tensor objects \"marked\" as variableds\n",
    "# sess.run() is a method for executing something\n",
    "sess.run(initializer)"
   ]
  },
  {
   "cell_type": "code",
   "execution_count": 8,
   "metadata": {},
   "outputs": [],
   "source": [
    "#np.load(file) is a method which loads data from an .npz, npy, or pickled files into an object\n",
    "training_data = np.load('TF_intro.npz')"
   ]
  },
  {
   "cell_type": "code",
   "execution_count": 9,
   "metadata": {},
   "outputs": [
    {
     "name": "stdout",
     "output_type": "stream",
     "text": [
      "233.32945\n",
      "118.3984\n",
      "63.10921\n",
      "35.826687\n",
      "21.962063\n",
      "14.658065\n",
      "10.629885\n",
      "8.274809\n",
      "6.796912\n",
      "5.7941337\n",
      "5.05982\n",
      "4.4857373\n",
      "4.0138965\n",
      "3.6123042\n",
      "3.262597\n",
      "2.9536748\n",
      "2.6783779\n",
      "2.431749\n",
      "2.21011\n",
      "2.0105553\n",
      "1.8306868\n",
      "1.6684568\n",
      "1.5220774\n",
      "1.3899732\n",
      "1.2707329\n",
      "1.1630977\n",
      "1.0659326\n",
      "0.9782158\n",
      "0.8990294\n",
      "0.82754123\n",
      "0.7630032\n",
      "0.70473963\n",
      "0.6521399\n",
      "0.6046542\n",
      "0.5617846\n",
      "0.52308226\n",
      "0.48814276\n",
      "0.45659935\n",
      "0.42812255\n",
      "0.40241423\n",
      "0.37920505\n",
      "0.35825244\n",
      "0.33933643\n",
      "0.32225922\n",
      "0.30684197\n",
      "0.29292384\n",
      "0.2803587\n",
      "0.26901492\n",
      "0.25877395\n",
      "0.2495286\n",
      "0.24118197\n",
      "0.23364703\n",
      "0.22684418\n",
      "0.22070304\n",
      "0.21515857\n",
      "0.21015339\n",
      "0.20563446\n",
      "0.20155516\n",
      "0.1978724\n",
      "0.19454746\n",
      "0.19154581\n",
      "0.18883598\n",
      "0.18638952\n",
      "0.18418081\n",
      "0.18218714\n",
      "0.18038708\n",
      "0.17876196\n",
      "0.17729495\n",
      "0.17597044\n",
      "0.17477469\n",
      "0.17369524\n",
      "0.17272073\n",
      "0.17184094\n",
      "0.17104666\n",
      "0.17032969\n",
      "0.16968228\n",
      "0.1690978\n",
      "0.16857025\n",
      "0.16809396\n",
      "0.16766398\n",
      "0.16727576\n",
      "0.16692528\n",
      "0.16660887\n",
      "0.16632326\n",
      "0.16606538\n",
      "0.16583261\n",
      "0.16562247\n",
      "0.1654327\n",
      "0.16526142\n",
      "0.16510671\n",
      "0.16496713\n",
      "0.16484112\n",
      "0.1647274\n",
      "0.1646246\n",
      "0.16453189\n",
      "0.16444816\n",
      "0.16437256\n",
      "0.16430426\n",
      "0.16424271\n",
      "0.16418713\n"
     ]
    }
   ],
   "source": [
    "# Learning\n",
    "# e stands for epoch, an iteration over the full dataset\n",
    "# feed_dict tells the algo how the data is going to be fed\n",
    "# the underscore _ is a special symbol to disregard a return value of a function (method), we do not need the return\n",
    "# of the optimize function\n",
    "for e in range (100):\n",
    "    _,curr_loss = sess.run([optimize, mean_loss],\n",
    "                         feed_dict = {inputs: training_data['inputs'], targets: training_data['targets']})\n",
    "    print(curr_loss)"
   ]
  },
  {
   "cell_type": "code",
   "execution_count": null,
   "metadata": {},
   "outputs": [],
   "source": []
  },
  {
   "cell_type": "code",
   "execution_count": null,
   "metadata": {},
   "outputs": [],
   "source": []
  }
 ],
 "metadata": {
  "kernelspec": {
   "display_name": "Python 3",
   "language": "python",
   "name": "python3"
  },
  "language_info": {
   "codemirror_mode": {
    "name": "ipython",
    "version": 3
   },
   "file_extension": ".py",
   "mimetype": "text/x-python",
   "name": "python",
   "nbconvert_exporter": "python",
   "pygments_lexer": "ipython3",
   "version": "3.6.8"
  }
 },
 "nbformat": 4,
 "nbformat_minor": 2
}
